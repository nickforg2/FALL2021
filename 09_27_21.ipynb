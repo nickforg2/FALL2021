{
  "nbformat": 4,
  "nbformat_minor": 0,
  "metadata": {
    "colab": {
      "name": "09/27/21.ipynb",
      "provenance": [],
      "authorship_tag": "ABX9TyMGikCf9kqsOcroVf3AWYB6",
      "include_colab_link": true
    },
    "kernelspec": {
      "name": "python3",
      "display_name": "Python 3"
    },
    "language_info": {
      "name": "python"
    }
  },
  "cells": [
    {
      "cell_type": "markdown",
      "metadata": {
        "id": "view-in-github",
        "colab_type": "text"
      },
      "source": [
        "<a href=\"https://colab.research.google.com/github/nickforg2/FALL2021/blob/main/09_27_21.ipynb\" target=\"_parent\"><img src=\"https://colab.research.google.com/assets/colab-badge.svg\" alt=\"Open In Colab\"/></a>"
      ]
    },
    {
      "cell_type": "markdown",
      "metadata": {
        "id": "Airmo7-6b41R"
      },
      "source": [
        "If Statements\n"
      ]
    },
    {
      "cell_type": "code",
      "metadata": {
        "colab": {
          "base_uri": "https://localhost:8080/"
        },
        "id": "kY98PxjoeKGP",
        "outputId": "68628267-4ff8-4a6c-de46-ef4d9aae014b"
      },
      "source": [
        "num = int(input(\"Please enter a number between 1 and 100 \"))\n",
        "\n",
        "while num < 0 or num >100:\n",
        "  num = int(input(\"Please enter a number between 1 and 100 \"))\n",
        "\n",
        "print(\"Thanks for the input\", num)"
      ],
      "execution_count": null,
      "outputs": [
        {
          "output_type": "stream",
          "name": "stdout",
          "text": [
            "Please enter a number between 1 and 100 -1\n",
            "Please enter a number between 1 and 100 -2\n",
            "Please enter a number between 1 and 100 -3\n",
            "Please enter a number between 1 and 100 -4\n",
            "Please enter a number between 1 and 100 -5\n",
            "Please enter a number between 1 and 100 100\n",
            "Thanks for the input 100\n"
          ]
        }
      ]
    },
    {
      "cell_type": "code",
      "metadata": {
        "colab": {
          "base_uri": "https://localhost:8080/"
        },
        "id": "Mp_2M-yDb4MC",
        "outputId": "aa486ab8-e6bd-4c42-c866-4568c5541fdd"
      },
      "source": [
        " num = int(input(\"please enter an even number \"))\n",
        "\n",
        "if num % 2 == 0:\n",
        "  print(\"even- acceptable\")\n",
        "else:\n",
        "  print(\"odd - not acceptable\")\n",
        "\n"
      ],
      "execution_count": null,
      "outputs": [
        {
          "output_type": "stream",
          "name": "stdout",
          "text": [
            "please enter an even number 9\n",
            "odd - not acceptable\n"
          ]
        }
      ]
    },
    {
      "cell_type": "code",
      "metadata": {
        "colab": {
          "base_uri": "https://localhost:8080/"
        },
        "id": "Xqgd3YTNfb8-",
        "outputId": "7c8b1a45-1b7c-4d50-9cee-819b7278bba9"
      },
      "source": [
        "secretNum= 12345\n",
        "guess =-1\n",
        "\n",
        "while secretNum != guess:\n",
        "  guess=int(input(\"please disclose the secret number: \"))\n",
        "\n",
        "print(\"Thank you\")"
      ],
      "execution_count": null,
      "outputs": [
        {
          "output_type": "stream",
          "name": "stdout",
          "text": [
            "please disclose the secret number: 1\n",
            "please disclose the secret number: 12345\n",
            "Thank you\n"
          ]
        }
      ]
    },
    {
      "cell_type": "code",
      "metadata": {
        "colab": {
          "base_uri": "https://localhost:8080/"
        },
        "id": "_ExmJQJmghLi",
        "outputId": "37ff3947-1989-44f6-8807-5e558e76ce0e"
      },
      "source": [
        "x =1 \n",
        "\n",
        "while x<=10:\n",
        "  print(x, end= \"|\")\n",
        "  x=x+1"
      ],
      "execution_count": null,
      "outputs": [
        {
          "output_type": "stream",
          "name": "stdout",
          "text": [
            "1|2|3|4|5|6|7|8|9|10|"
          ]
        }
      ]
    },
    {
      "cell_type": "code",
      "metadata": {
        "colab": {
          "base_uri": "https://localhost:8080/",
          "height": 595
        },
        "id": "WNIkYmFeiK28",
        "outputId": "c3764972-1b71-4b57-cc50-c94484eef0a9"
      },
      "source": [
        "age = (input(\"Please give me a number for your age: \"))\n",
        "\n",
        "while not (age.isdigit()):\n",
        "  age =(input(\"Please give me a number for your age: \"))\n",
        "\n",
        "age = int(age)\n",
        "print(age)\n",
        "print(\"thank you\")\n",
        "\n",
        "name = input(\"Please enter your name: \")\n",
        "while not(name.isalpha()):\n",
        "  name = (input(\"Please enter your name: \"))\n",
        "\n",
        "print(name)\n",
        "\n",
        "\n",
        "counter =0\n",
        "accepted = True\n",
        "while (age <0 or age >100):\n",
        "  counter = counter + 1\n",
        "  if(counter>3):\n",
        "    accepted= False\n",
        "    break\n",
        "  Age = int(input(\"please give me a number for your age\"))\n",
        "\n"
      ],
      "execution_count": null,
      "outputs": [
        {
          "name": "stdout",
          "output_type": "stream",
          "text": [
            "Please give me a number for your age: h\n",
            "Please give me a number for your age: h\n"
          ]
        },
        {
          "output_type": "error",
          "ename": "KeyboardInterrupt",
          "evalue": "ignored",
          "traceback": [
            "\u001b[0;31m---------------------------------------------------------------------------\u001b[0m",
            "\u001b[0;31mKeyboardInterrupt\u001b[0m                         Traceback (most recent call last)",
            "\u001b[0;32m/usr/local/lib/python3.7/dist-packages/ipykernel/kernelbase.py\u001b[0m in \u001b[0;36m_input_request\u001b[0;34m(self, prompt, ident, parent, password)\u001b[0m\n\u001b[1;32m    728\u001b[0m             \u001b[0;32mtry\u001b[0m\u001b[0;34m:\u001b[0m\u001b[0;34m\u001b[0m\u001b[0;34m\u001b[0m\u001b[0m\n\u001b[0;32m--> 729\u001b[0;31m                 \u001b[0mident\u001b[0m\u001b[0;34m,\u001b[0m \u001b[0mreply\u001b[0m \u001b[0;34m=\u001b[0m \u001b[0mself\u001b[0m\u001b[0;34m.\u001b[0m\u001b[0msession\u001b[0m\u001b[0;34m.\u001b[0m\u001b[0mrecv\u001b[0m\u001b[0;34m(\u001b[0m\u001b[0mself\u001b[0m\u001b[0;34m.\u001b[0m\u001b[0mstdin_socket\u001b[0m\u001b[0;34m,\u001b[0m \u001b[0;36m0\u001b[0m\u001b[0;34m)\u001b[0m\u001b[0;34m\u001b[0m\u001b[0;34m\u001b[0m\u001b[0m\n\u001b[0m\u001b[1;32m    730\u001b[0m             \u001b[0;32mexcept\u001b[0m \u001b[0mException\u001b[0m\u001b[0;34m:\u001b[0m\u001b[0;34m\u001b[0m\u001b[0;34m\u001b[0m\u001b[0m\n",
            "\u001b[0;32m/usr/local/lib/python3.7/dist-packages/jupyter_client/session.py\u001b[0m in \u001b[0;36mrecv\u001b[0;34m(self, socket, mode, content, copy)\u001b[0m\n\u001b[1;32m    802\u001b[0m         \u001b[0;32mtry\u001b[0m\u001b[0;34m:\u001b[0m\u001b[0;34m\u001b[0m\u001b[0;34m\u001b[0m\u001b[0m\n\u001b[0;32m--> 803\u001b[0;31m             \u001b[0mmsg_list\u001b[0m \u001b[0;34m=\u001b[0m \u001b[0msocket\u001b[0m\u001b[0;34m.\u001b[0m\u001b[0mrecv_multipart\u001b[0m\u001b[0;34m(\u001b[0m\u001b[0mmode\u001b[0m\u001b[0;34m,\u001b[0m \u001b[0mcopy\u001b[0m\u001b[0;34m=\u001b[0m\u001b[0mcopy\u001b[0m\u001b[0;34m)\u001b[0m\u001b[0;34m\u001b[0m\u001b[0;34m\u001b[0m\u001b[0m\n\u001b[0m\u001b[1;32m    804\u001b[0m         \u001b[0;32mexcept\u001b[0m \u001b[0mzmq\u001b[0m\u001b[0;34m.\u001b[0m\u001b[0mZMQError\u001b[0m \u001b[0;32mas\u001b[0m \u001b[0me\u001b[0m\u001b[0;34m:\u001b[0m\u001b[0;34m\u001b[0m\u001b[0;34m\u001b[0m\u001b[0m\n",
            "\u001b[0;32m/usr/local/lib/python3.7/dist-packages/zmq/sugar/socket.py\u001b[0m in \u001b[0;36mrecv_multipart\u001b[0;34m(self, flags, copy, track)\u001b[0m\n\u001b[1;32m    624\u001b[0m         \"\"\"\n\u001b[0;32m--> 625\u001b[0;31m         \u001b[0mparts\u001b[0m \u001b[0;34m=\u001b[0m \u001b[0;34m[\u001b[0m\u001b[0mself\u001b[0m\u001b[0;34m.\u001b[0m\u001b[0mrecv\u001b[0m\u001b[0;34m(\u001b[0m\u001b[0mflags\u001b[0m\u001b[0;34m,\u001b[0m \u001b[0mcopy\u001b[0m\u001b[0;34m=\u001b[0m\u001b[0mcopy\u001b[0m\u001b[0;34m,\u001b[0m \u001b[0mtrack\u001b[0m\u001b[0;34m=\u001b[0m\u001b[0mtrack\u001b[0m\u001b[0;34m)\u001b[0m\u001b[0;34m]\u001b[0m\u001b[0;34m\u001b[0m\u001b[0;34m\u001b[0m\u001b[0m\n\u001b[0m\u001b[1;32m    626\u001b[0m         \u001b[0;31m# have first part already, only loop while more to receive\u001b[0m\u001b[0;34m\u001b[0m\u001b[0;34m\u001b[0m\u001b[0;34m\u001b[0m\u001b[0m\n",
            "\u001b[0;32mzmq/backend/cython/socket.pyx\u001b[0m in \u001b[0;36mzmq.backend.cython.socket.Socket.recv\u001b[0;34m()\u001b[0m\n",
            "\u001b[0;32mzmq/backend/cython/socket.pyx\u001b[0m in \u001b[0;36mzmq.backend.cython.socket.Socket.recv\u001b[0;34m()\u001b[0m\n",
            "\u001b[0;32mzmq/backend/cython/socket.pyx\u001b[0m in \u001b[0;36mzmq.backend.cython.socket._recv_copy\u001b[0;34m()\u001b[0m\n",
            "\u001b[0;32m/usr/local/lib/python3.7/dist-packages/zmq/backend/cython/checkrc.pxd\u001b[0m in \u001b[0;36mzmq.backend.cython.checkrc._check_rc\u001b[0;34m()\u001b[0m\n",
            "\u001b[0;31mKeyboardInterrupt\u001b[0m: ",
            "\nDuring handling of the above exception, another exception occurred:\n",
            "\u001b[0;31mKeyboardInterrupt\u001b[0m                         Traceback (most recent call last)",
            "\u001b[0;32m<ipython-input-52-8f67a2454523>\u001b[0m in \u001b[0;36m<module>\u001b[0;34m()\u001b[0m\n\u001b[1;32m      2\u001b[0m \u001b[0;34m\u001b[0m\u001b[0m\n\u001b[1;32m      3\u001b[0m \u001b[0;32mwhile\u001b[0m \u001b[0;32mnot\u001b[0m \u001b[0;34m(\u001b[0m\u001b[0mage\u001b[0m\u001b[0;34m.\u001b[0m\u001b[0misdigit\u001b[0m\u001b[0;34m(\u001b[0m\u001b[0;34m)\u001b[0m\u001b[0;34m)\u001b[0m\u001b[0;34m:\u001b[0m\u001b[0;34m\u001b[0m\u001b[0;34m\u001b[0m\u001b[0m\n\u001b[0;32m----> 4\u001b[0;31m   \u001b[0mage\u001b[0m \u001b[0;34m=\u001b[0m\u001b[0;34m(\u001b[0m\u001b[0minput\u001b[0m\u001b[0;34m(\u001b[0m\u001b[0;34m\"Please give me a number for your age: \"\u001b[0m\u001b[0;34m)\u001b[0m\u001b[0;34m)\u001b[0m\u001b[0;34m\u001b[0m\u001b[0;34m\u001b[0m\u001b[0m\n\u001b[0m\u001b[1;32m      5\u001b[0m \u001b[0;34m\u001b[0m\u001b[0m\n\u001b[1;32m      6\u001b[0m \u001b[0mage\u001b[0m \u001b[0;34m=\u001b[0m \u001b[0mint\u001b[0m\u001b[0;34m(\u001b[0m\u001b[0mage\u001b[0m\u001b[0;34m)\u001b[0m\u001b[0;34m\u001b[0m\u001b[0;34m\u001b[0m\u001b[0m\n",
            "\u001b[0;32m/usr/local/lib/python3.7/dist-packages/ipykernel/kernelbase.py\u001b[0m in \u001b[0;36mraw_input\u001b[0;34m(self, prompt)\u001b[0m\n\u001b[1;32m    702\u001b[0m             \u001b[0mself\u001b[0m\u001b[0;34m.\u001b[0m\u001b[0m_parent_ident\u001b[0m\u001b[0;34m,\u001b[0m\u001b[0;34m\u001b[0m\u001b[0;34m\u001b[0m\u001b[0m\n\u001b[1;32m    703\u001b[0m             \u001b[0mself\u001b[0m\u001b[0;34m.\u001b[0m\u001b[0m_parent_header\u001b[0m\u001b[0;34m,\u001b[0m\u001b[0;34m\u001b[0m\u001b[0;34m\u001b[0m\u001b[0m\n\u001b[0;32m--> 704\u001b[0;31m             \u001b[0mpassword\u001b[0m\u001b[0;34m=\u001b[0m\u001b[0;32mFalse\u001b[0m\u001b[0;34m,\u001b[0m\u001b[0;34m\u001b[0m\u001b[0;34m\u001b[0m\u001b[0m\n\u001b[0m\u001b[1;32m    705\u001b[0m         )\n\u001b[1;32m    706\u001b[0m \u001b[0;34m\u001b[0m\u001b[0m\n",
            "\u001b[0;32m/usr/local/lib/python3.7/dist-packages/ipykernel/kernelbase.py\u001b[0m in \u001b[0;36m_input_request\u001b[0;34m(self, prompt, ident, parent, password)\u001b[0m\n\u001b[1;32m    732\u001b[0m             \u001b[0;32mexcept\u001b[0m \u001b[0mKeyboardInterrupt\u001b[0m\u001b[0;34m:\u001b[0m\u001b[0;34m\u001b[0m\u001b[0;34m\u001b[0m\u001b[0m\n\u001b[1;32m    733\u001b[0m                 \u001b[0;31m# re-raise KeyboardInterrupt, to truncate traceback\u001b[0m\u001b[0;34m\u001b[0m\u001b[0;34m\u001b[0m\u001b[0;34m\u001b[0m\u001b[0m\n\u001b[0;32m--> 734\u001b[0;31m                 \u001b[0;32mraise\u001b[0m \u001b[0mKeyboardInterrupt\u001b[0m\u001b[0;34m\u001b[0m\u001b[0;34m\u001b[0m\u001b[0m\n\u001b[0m\u001b[1;32m    735\u001b[0m             \u001b[0;32melse\u001b[0m\u001b[0;34m:\u001b[0m\u001b[0;34m\u001b[0m\u001b[0;34m\u001b[0m\u001b[0m\n\u001b[1;32m    736\u001b[0m                 \u001b[0;32mbreak\u001b[0m\u001b[0;34m\u001b[0m\u001b[0;34m\u001b[0m\u001b[0m\n",
            "\u001b[0;31mKeyboardInterrupt\u001b[0m: "
          ]
        }
      ]
    },
    {
      "cell_type": "markdown",
      "metadata": {
        "id": "budUpjsKpQoG"
      },
      "source": [
        "#START OF THE HOMEWORK"
      ]
    },
    {
      "cell_type": "markdown",
      "metadata": {
        "id": "kTsQ6p2jYJeZ"
      },
      "source": [
        "### 1) Ask a user for their name and age. Ensure that they give letters for their name and numbers for their age. Then ensure that they give an age between 1 and 100, inclusive. Give them three chances for this, otherwise output a message: \"Unacceptable.\" If they're name and age are acceptable output the message: \"Acceptable\"\n",
        "\n",
        "### 2) Extra Credit: Ask the user to create a password that is 8 or more characters, contains a number, an uppercase letter, a lowercase letter, and a special character. Tell them which issue they are having if it is not a valid password. Give them unlimited attempts to get it correct.\n",
        "\n",
        "### 3) Use a for loop to output every number that has a 3 in it (such as 13, 33, etc) between 1 and 1000. Use a line (such as 3 | 13 | 23 | etc) to split it up\n",
        "\n",
        "### 4) Use a while loop to output all the even numbers between 1 and 100 backwards, e.g. 100, 98, 96, etc.\n",
        "\n",
        "### 5) Use a loop to output all the prime numbers between 100 and 1000 (use a bar in between, simiilar to question 3)."
      ]
    },
    {
      "cell_type": "markdown",
      "metadata": {
        "id": "SsxCFbFnfJ73"
      },
      "source": [
        "#QUESTION 1"
      ]
    },
    {
      "cell_type": "code",
      "metadata": {
        "id": "6ZMm8HnikqjF",
        "colab": {
          "base_uri": "https://localhost:8080/"
        },
        "outputId": "721e90d9-294b-4c99-dd21-0036c989969f"
      },
      "source": [
        " name = input (\"Please enter your name: \")\n",
        " age = input(\"Please enter your age: \")\n",
        " counter = 1\n",
        "\n",
        " while counter<3:\n",
        "  if not age.isdigit():\n",
        "    print(\"Try again...\")\n",
        "    age = input(\"Please enter your age: \")\n",
        "    counter=counter+1\n",
        "  elif not name.isalpha():\n",
        "    print(\"Try again...\")\n",
        "    name = input(\"Please enter your name: \")\n",
        "  else:\n",
        "    print(\"Credentials are acceptable\")\n",
        "    break\n",
        " \n",
        "\n",
        "\n",
        "     \n",
        "  \n"
      ],
      "execution_count": 129,
      "outputs": [
        {
          "output_type": "stream",
          "name": "stdout",
          "text": [
            "Please enter your name: 15\n",
            "Please enter your age: Tree\n",
            "Try again...\n",
            "Please enter your age: 17\n",
            "Try again...\n",
            "Please enter your name: Andrew\n",
            "Credentials are acceptable\n"
          ]
        }
      ]
    },
    {
      "cell_type": "markdown",
      "metadata": {
        "id": "EKlka36KfSEe"
      },
      "source": [
        "#QUESTION 3"
      ]
    },
    {
      "cell_type": "code",
      "metadata": {
        "colab": {
          "base_uri": "https://localhost:8080/"
        },
        "id": "idlwpb2DfVo3",
        "outputId": "afcd752b-d30e-440e-e7c7-a459a5d3fb11"
      },
      "source": [
        "for spot in range (1, 1000):\n",
        "  val = str(spot)\n",
        "  for position in val:\n",
        "    if position == '3':\n",
        "      print(spot, end = \"|\")\n",
        "      break"
      ],
      "execution_count": 130,
      "outputs": [
        {
          "output_type": "stream",
          "name": "stdout",
          "text": [
            "3|13|23|30|31|32|33|34|35|36|37|38|39|43|53|63|73|83|93|103|113|123|130|131|132|133|134|135|136|137|138|139|143|153|163|173|183|193|203|213|223|230|231|232|233|234|235|236|237|238|239|243|253|263|273|283|293|300|301|302|303|304|305|306|307|308|309|310|311|312|313|314|315|316|317|318|319|320|321|322|323|324|325|326|327|328|329|330|331|332|333|334|335|336|337|338|339|340|341|342|343|344|345|346|347|348|349|350|351|352|353|354|355|356|357|358|359|360|361|362|363|364|365|366|367|368|369|370|371|372|373|374|375|376|377|378|379|380|381|382|383|384|385|386|387|388|389|390|391|392|393|394|395|396|397|398|399|403|413|423|430|431|432|433|434|435|436|437|438|439|443|453|463|473|483|493|503|513|523|530|531|532|533|534|535|536|537|538|539|543|553|563|573|583|593|603|613|623|630|631|632|633|634|635|636|637|638|639|643|653|663|673|683|693|703|713|723|730|731|732|733|734|735|736|737|738|739|743|753|763|773|783|793|803|813|823|830|831|832|833|834|835|836|837|838|839|843|853|863|873|883|893|903|913|923|930|931|932|933|934|935|936|937|938|939|943|953|963|973|983|993|"
          ]
        }
      ]
    },
    {
      "cell_type": "markdown",
      "metadata": {
        "id": "osIMUTnZhhrZ"
      },
      "source": [
        "#QUESTION 4"
      ]
    },
    {
      "cell_type": "code",
      "metadata": {
        "colab": {
          "base_uri": "https://localhost:8080/"
        },
        "id": "aCMbN4UrhlUk",
        "outputId": "2fb8a239-ec8c-4d46-c10b-480cc9e18068"
      },
      "source": [
        "x = 100\n",
        "\n",
        "while x> 1:\n",
        "  x=x-1\n",
        "  if x%2==0:\n",
        "    print(x, end= \" \")"
      ],
      "execution_count": 92,
      "outputs": [
        {
          "output_type": "stream",
          "name": "stdout",
          "text": [
            "98 96 94 92 90 88 86 84 82 80 78 76 74 72 70 68 66 64 62 60 58 56 54 52 50 48 46 44 42 40 38 36 34 32 30 28 26 24 22 20 18 16 14 12 10 8 6 4 2 "
          ]
        }
      ]
    },
    {
      "cell_type": "markdown",
      "metadata": {
        "id": "aiAzAqf5ie71"
      },
      "source": [
        "#QUESTION 5"
      ]
    },
    {
      "cell_type": "code",
      "metadata": {
        "colab": {
          "base_uri": "https://localhost:8080/"
        },
        "id": "2UK4Udhjiitv",
        "outputId": "318ff641-092d-437c-b954-094f39083cda"
      },
      "source": [
        "\n",
        "for number in range(100,1000):\n",
        "    if number>1:\n",
        "        for i in range(2,number):\n",
        "            if (number%i)==0:\n",
        "                break\n",
        "        else:\n",
        "            print(number, end = \"|\")"
      ],
      "execution_count": 94,
      "outputs": [
        {
          "output_type": "stream",
          "name": "stdout",
          "text": [
            "101|103|107|109|113|127|131|137|139|149|151|157|163|167|173|179|181|191|193|197|199|211|223|227|229|233|239|241|251|257|263|269|271|277|281|283|293|307|311|313|317|331|337|347|349|353|359|367|373|379|383|389|397|401|409|419|421|431|433|439|443|449|457|461|463|467|479|487|491|499|503|509|521|523|541|547|557|563|569|571|577|587|593|599|601|607|613|617|619|631|641|643|647|653|659|661|673|677|683|691|701|709|719|727|733|739|743|751|757|761|769|773|787|797|809|811|821|823|827|829|839|853|857|859|863|877|881|883|887|907|911|919|929|937|941|947|953|967|971|977|983|991|997|"
          ]
        }
      ]
    }
  ]
}