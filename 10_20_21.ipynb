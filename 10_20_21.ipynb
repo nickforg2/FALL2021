{
  "nbformat": 4,
  "nbformat_minor": 0,
  "metadata": {
    "colab": {
      "name": "10/20/21.ipynb",
      "provenance": [],
      "authorship_tag": "ABX9TyPMOXPZRdLH+TThFDTDR2ot",
      "include_colab_link": true
    },
    "kernelspec": {
      "name": "python3",
      "display_name": "Python 3"
    },
    "language_info": {
      "name": "python"
    }
  },
  "cells": [
    {
      "cell_type": "markdown",
      "metadata": {
        "id": "view-in-github",
        "colab_type": "text"
      },
      "source": [
        "<a href=\"https://colab.research.google.com/github/nickforg2/FALL2021/blob/main/10_20_21.ipynb\" target=\"_parent\"><img src=\"https://colab.research.google.com/assets/colab-badge.svg\" alt=\"Open In Colab\"/></a>"
      ]
    },
    {
      "cell_type": "markdown",
      "metadata": {
        "id": "zcr5ZYnIAWM7"
      },
      "source": [
        "##1\n"
      ]
    },
    {
      "cell_type": "code",
      "metadata": {
        "id": "zhsNOJdH-zds",
        "colab": {
          "base_uri": "https://localhost:8080/"
        },
        "outputId": "bf464347-7fa2-4832-be57-723ab063d09b"
      },
      "source": [
        "def average(num1, num2):\n",
        "  average=(num1+num2)/2\n",
        "  return (average)\n",
        "\n",
        "num1= int(input(\"Please enter First Number \"))\n",
        "num2= int(input(\"Please enter Second Number \"))\n",
        "avg=average(num1,num2)\n",
        "\n",
        "print(\"Your average is\", avg)\n",
        "\n"
      ],
      "execution_count": null,
      "outputs": [
        {
          "output_type": "stream",
          "name": "stdout",
          "text": [
            "Please enter First Number 6\n",
            "Please enter Second Number 10\n",
            "Your average is 8.0\n"
          ]
        }
      ]
    },
    {
      "cell_type": "markdown",
      "metadata": {
        "id": "ARxhW7lt0Bo6"
      },
      "source": [
        "## 2"
      ]
    },
    {
      "cell_type": "code",
      "metadata": {
        "colab": {
          "base_uri": "https://localhost:8080/",
          "height": 367
        },
        "id": "72CmDxJdQEYN",
        "outputId": "c566255c-bb9c-4462-d19a-c73c08b26b4e"
      },
      "source": [
        "def sum_between(first, second):\n",
        "    nums_between = range(first, second + 1)\n",
        "    return sum(nums_between)\n",
        "\n",
        "first_number = int(input(\"Enter first number: \"))  # the input() function returns a string; we need to typecast it to an integer first\n",
        "second_number = int(input(\"Enter second number: \"))\n",
        "...\n",
        "print(sum_between(first_number, second_number))"
      ],
      "execution_count": null,
      "outputs": [
        {
          "name": "stdout",
          "output_type": "stream",
          "text": [
            "Enter first number: 10\n",
            "Enter second number: 100\n"
          ]
        },
        {
          "output_type": "error",
          "ename": "TypeError",
          "evalue": "ignored",
          "traceback": [
            "\u001b[0;31m---------------------------------------------------------------------------\u001b[0m",
            "\u001b[0;31mTypeError\u001b[0m                                 Traceback (most recent call last)",
            "\u001b[0;32m<ipython-input-26-3dd87f484520>\u001b[0m in \u001b[0;36m<module>\u001b[0;34m()\u001b[0m\n\u001b[1;32m      6\u001b[0m \u001b[0msecond_number\u001b[0m \u001b[0;34m=\u001b[0m \u001b[0mint\u001b[0m\u001b[0;34m(\u001b[0m\u001b[0minput\u001b[0m\u001b[0;34m(\u001b[0m\u001b[0;34m\"Enter second number: \"\u001b[0m\u001b[0;34m)\u001b[0m\u001b[0;34m)\u001b[0m\u001b[0;34m\u001b[0m\u001b[0;34m\u001b[0m\u001b[0m\n\u001b[1;32m      7\u001b[0m \u001b[0;34m...\u001b[0m\u001b[0;34m\u001b[0m\u001b[0;34m\u001b[0m\u001b[0m\n\u001b[0;32m----> 8\u001b[0;31m \u001b[0mprint\u001b[0m\u001b[0;34m(\u001b[0m\u001b[0msum_between\u001b[0m\u001b[0;34m(\u001b[0m\u001b[0mfirst_number\u001b[0m\u001b[0;34m,\u001b[0m \u001b[0msecond_number\u001b[0m\u001b[0;34m)\u001b[0m\u001b[0;34m)\u001b[0m\u001b[0;34m\u001b[0m\u001b[0;34m\u001b[0m\u001b[0m\n\u001b[0m",
            "\u001b[0;32m<ipython-input-26-3dd87f484520>\u001b[0m in \u001b[0;36msum_between\u001b[0;34m(first, second)\u001b[0m\n\u001b[1;32m      1\u001b[0m \u001b[0;32mdef\u001b[0m \u001b[0msum_between\u001b[0m\u001b[0;34m(\u001b[0m\u001b[0mfirst\u001b[0m\u001b[0;34m,\u001b[0m \u001b[0msecond\u001b[0m\u001b[0;34m)\u001b[0m\u001b[0;34m:\u001b[0m\u001b[0;34m\u001b[0m\u001b[0;34m\u001b[0m\u001b[0m\n\u001b[1;32m      2\u001b[0m     \u001b[0mnums_between\u001b[0m \u001b[0;34m=\u001b[0m \u001b[0mrange\u001b[0m\u001b[0;34m(\u001b[0m\u001b[0mfirst\u001b[0m\u001b[0;34m,\u001b[0m \u001b[0msecond\u001b[0m \u001b[0;34m+\u001b[0m \u001b[0;36m1\u001b[0m\u001b[0;34m)\u001b[0m\u001b[0;34m\u001b[0m\u001b[0;34m\u001b[0m\u001b[0m\n\u001b[0;32m----> 3\u001b[0;31m     \u001b[0;32mreturn\u001b[0m \u001b[0msum\u001b[0m\u001b[0;34m(\u001b[0m\u001b[0mnums_between\u001b[0m\u001b[0;34m)\u001b[0m\u001b[0;34m\u001b[0m\u001b[0;34m\u001b[0m\u001b[0m\n\u001b[0m\u001b[1;32m      4\u001b[0m \u001b[0;34m\u001b[0m\u001b[0m\n\u001b[1;32m      5\u001b[0m \u001b[0mfirst_number\u001b[0m \u001b[0;34m=\u001b[0m \u001b[0mint\u001b[0m\u001b[0;34m(\u001b[0m\u001b[0minput\u001b[0m\u001b[0;34m(\u001b[0m\u001b[0;34m\"Enter first number: \"\u001b[0m\u001b[0;34m)\u001b[0m\u001b[0;34m)\u001b[0m  \u001b[0;31m# the input() function returns a string; we need to typecast it to an integer first\u001b[0m\u001b[0;34m\u001b[0m\u001b[0;34m\u001b[0m\u001b[0m\n",
            "\u001b[0;31mTypeError\u001b[0m: sum() missing 1 required positional argument: 'second'"
          ]
        }
      ]
    },
    {
      "cell_type": "markdown",
      "metadata": {
        "id": "knLC-8jvDKmT"
      },
      "source": [
        "##3"
      ]
    },
    {
      "cell_type": "code",
      "metadata": {
        "id": "2ymlH4KtDKR2",
        "colab": {
          "base_uri": "https://localhost:8080/"
        },
        "outputId": "cd870337-43b4-41d0-e19d-e25429578dbd"
      },
      "source": [
        "def POS(item_cost,percentage_off, tax):\n",
        "  discount=item_cost*percentage_off\n",
        "  return (item_cost-discount)+tax\n",
        "\n",
        "cost= int(input(\"please enter cost: \"))\n",
        "percentage= float(input(\"Enter your percent off (in decimals) \"))\n",
        "taxer= float(input(\"Enter the tax \"))\n",
        "\n",
        "POS(cost, percentage, taxer)"
      ],
      "execution_count": null,
      "outputs": [
        {
          "name": "stdout",
          "output_type": "stream",
          "text": [
            "please enter cost: 5\n",
            "Enter your percent off .2\n",
            "Enter the tax 10\n"
          ]
        },
        {
          "output_type": "execute_result",
          "data": {
            "text/plain": [
              "14.0"
            ]
          },
          "metadata": {},
          "execution_count": 32
        }
      ]
    },
    {
      "cell_type": "markdown",
      "metadata": {
        "id": "6KWcR77zAqmr"
      },
      "source": [
        "##4"
      ]
    },
    {
      "cell_type": "code",
      "metadata": {
        "colab": {
          "base_uri": "https://localhost:8080/"
        },
        "id": "UGXuVDeS1eqt",
        "outputId": "5e3cbc3d-10c5-40ad-c0b7-e135c72babda"
      },
      "source": [
        "def isPrime(num):\n",
        "  for i in range (2,num):\n",
        "    if(num% i==0):\n",
        "      return False\n",
        "    return True\n",
        "\n",
        "def listPrimes(x, y):\n",
        "  for i in range(x,y+1):\n",
        "    if(isPrime(i)):\n",
        "      print(i, end = \" | \")\n",
        "\n",
        "listPrimes(2,1000)\n",
        "\n",
        "  "
      ],
      "execution_count": null,
      "outputs": [
        {
          "output_type": "stream",
          "name": "stdout",
          "text": [
            "3 | 5 | 7 | 9 | 11 | 13 | 15 | 17 | 19 | 21 | 23 | 25 | 27 | 29 | 31 | 33 | 35 | 37 | 39 | 41 | 43 | 45 | 47 | 49 | 51 | 53 | 55 | 57 | 59 | 61 | 63 | 65 | 67 | 69 | 71 | 73 | 75 | 77 | 79 | 81 | 83 | 85 | 87 | 89 | 91 | 93 | 95 | 97 | 99 | 101 | 103 | 105 | 107 | 109 | 111 | 113 | 115 | 117 | 119 | 121 | 123 | 125 | 127 | 129 | 131 | 133 | 135 | 137 | 139 | 141 | 143 | 145 | 147 | 149 | 151 | 153 | 155 | 157 | 159 | 161 | 163 | 165 | 167 | 169 | 171 | 173 | 175 | 177 | 179 | 181 | 183 | 185 | 187 | 189 | 191 | 193 | 195 | 197 | 199 | 201 | 203 | 205 | 207 | 209 | 211 | 213 | 215 | 217 | 219 | 221 | 223 | 225 | 227 | 229 | 231 | 233 | 235 | 237 | 239 | 241 | 243 | 245 | 247 | 249 | 251 | 253 | 255 | 257 | 259 | 261 | 263 | 265 | 267 | 269 | 271 | 273 | 275 | 277 | 279 | 281 | 283 | 285 | 287 | 289 | 291 | 293 | 295 | 297 | 299 | 301 | 303 | 305 | 307 | 309 | 311 | 313 | 315 | 317 | 319 | 321 | 323 | 325 | 327 | 329 | 331 | 333 | 335 | 337 | 339 | 341 | 343 | 345 | 347 | 349 | 351 | 353 | 355 | 357 | 359 | 361 | 363 | 365 | 367 | 369 | 371 | 373 | 375 | 377 | 379 | 381 | 383 | 385 | 387 | 389 | 391 | 393 | 395 | 397 | 399 | 401 | 403 | 405 | 407 | 409 | 411 | 413 | 415 | 417 | 419 | 421 | 423 | 425 | 427 | 429 | 431 | 433 | 435 | 437 | 439 | 441 | 443 | 445 | 447 | 449 | 451 | 453 | 455 | 457 | 459 | 461 | 463 | 465 | 467 | 469 | 471 | 473 | 475 | 477 | 479 | 481 | 483 | 485 | 487 | 489 | 491 | 493 | 495 | 497 | 499 | 501 | 503 | 505 | 507 | 509 | 511 | 513 | 515 | 517 | 519 | 521 | 523 | 525 | 527 | 529 | 531 | 533 | 535 | 537 | 539 | 541 | 543 | 545 | 547 | 549 | 551 | 553 | 555 | 557 | 559 | 561 | 563 | 565 | 567 | 569 | 571 | 573 | 575 | 577 | 579 | 581 | 583 | 585 | 587 | 589 | 591 | 593 | 595 | 597 | 599 | 601 | 603 | 605 | 607 | 609 | 611 | 613 | 615 | 617 | 619 | 621 | 623 | 625 | 627 | 629 | 631 | 633 | 635 | 637 | 639 | 641 | 643 | 645 | 647 | 649 | 651 | 653 | 655 | 657 | 659 | 661 | 663 | 665 | 667 | 669 | 671 | 673 | 675 | 677 | 679 | 681 | 683 | 685 | 687 | 689 | 691 | 693 | 695 | 697 | 699 | 701 | 703 | 705 | 707 | 709 | 711 | 713 | 715 | 717 | 719 | 721 | 723 | 725 | 727 | 729 | 731 | 733 | 735 | 737 | 739 | 741 | 743 | 745 | 747 | 749 | 751 | 753 | 755 | 757 | 759 | 761 | 763 | 765 | 767 | 769 | 771 | 773 | 775 | 777 | 779 | 781 | 783 | 785 | 787 | 789 | 791 | 793 | 795 | 797 | 799 | 801 | 803 | 805 | 807 | 809 | 811 | 813 | 815 | 817 | 819 | 821 | 823 | 825 | 827 | 829 | 831 | 833 | 835 | 837 | 839 | 841 | 843 | 845 | 847 | 849 | 851 | 853 | 855 | 857 | 859 | 861 | 863 | 865 | 867 | 869 | 871 | 873 | 875 | 877 | 879 | 881 | 883 | 885 | 887 | 889 | 891 | 893 | 895 | 897 | 899 | 901 | 903 | 905 | 907 | 909 | 911 | 913 | 915 | 917 | 919 | 921 | 923 | 925 | 927 | 929 | 931 | 933 | 935 | 937 | 939 | 941 | 943 | 945 | 947 | 949 | 951 | 953 | 955 | 957 | 959 | 961 | 963 | 965 | 967 | 969 | 971 | 973 | 975 | 977 | 979 | 981 | 983 | 985 | 987 | 989 | 991 | 993 | 995 | 997 | 999 | "
          ]
        }
      ]
    },
    {
      "cell_type": "markdown",
      "metadata": {
        "id": "jiblbxyhAtiV"
      },
      "source": [
        "##5"
      ]
    },
    {
      "cell_type": "code",
      "metadata": {
        "colab": {
          "base_uri": "https://localhost:8080/"
        },
        "id": "uXDMRcnN3rXQ",
        "outputId": "ff396724-d43b-40b7-daf2-e3dce4cd7451"
      },
      "source": [
        "def coprime_test(num1, num2):\n",
        "  for i in range(2, num2+1):  \n",
        "    if(num1%i == 0 and num2%i==0):\n",
        "      return False\n",
        "  return True\n",
        "\n",
        "def list_coprimes(x):\n",
        "  print(1, end = \" | \")\n",
        "  for i in range(2,x):\n",
        "    if(coprime_test(x,i)):\n",
        "      print(i, end = \" | \")\n",
        "\n",
        "list_coprimes(12)"
      ],
      "execution_count": null,
      "outputs": [
        {
          "output_type": "stream",
          "name": "stdout",
          "text": [
            "1 | 5 | 7 | 11 | "
          ]
        }
      ]
    },
    {
      "cell_type": "markdown",
      "metadata": {
        "id": "QYn_NX7sAwK4"
      },
      "source": [
        "##6"
      ]
    },
    {
      "cell_type": "code",
      "metadata": {
        "colab": {
          "base_uri": "https://localhost:8080/",
          "height": 316
        },
        "id": "W-KE3NXf5wFt",
        "outputId": "f6262707-2d24-48a3-ed8c-d13abe4cd7a4"
      },
      "source": [
        "def coprime_test(num1, num2):\n",
        "  for i in range(2, num2+1):  \n",
        "    if(num1%i == 0 and num2%i==0):\n",
        "      return False\n",
        "  return True\n",
        "\n",
        "def list_coprimes(x):\n",
        "  print(1, end = \" | \")\n",
        "  for i in range(2,x):\n",
        "    if(coprime_test(x,i)):\n",
        "      print(i, end = \" | \")\n",
        "\n",
        "def count_co(list_coprimes):\n",
        "      for i in range (2, list_coprimes):\n",
        "        count=count+1\n",
        "        print(count)\n",
        "\n",
        "count_co(12)"
      ],
      "execution_count": null,
      "outputs": [
        {
          "output_type": "error",
          "ename": "UnboundLocalError",
          "evalue": "ignored",
          "traceback": [
            "\u001b[0;31m---------------------------------------------------------------------------\u001b[0m",
            "\u001b[0;31mUnboundLocalError\u001b[0m                         Traceback (most recent call last)",
            "\u001b[0;32m<ipython-input-61-914fb8984c7a>\u001b[0m in \u001b[0;36m<module>\u001b[0;34m()\u001b[0m\n\u001b[1;32m     16\u001b[0m         \u001b[0mprint\u001b[0m\u001b[0;34m(\u001b[0m\u001b[0mcount\u001b[0m\u001b[0;34m)\u001b[0m\u001b[0;34m\u001b[0m\u001b[0;34m\u001b[0m\u001b[0m\n\u001b[1;32m     17\u001b[0m \u001b[0;34m\u001b[0m\u001b[0m\n\u001b[0;32m---> 18\u001b[0;31m \u001b[0mcount_co\u001b[0m\u001b[0;34m(\u001b[0m\u001b[0;36m12\u001b[0m\u001b[0;34m)\u001b[0m\u001b[0;34m\u001b[0m\u001b[0;34m\u001b[0m\u001b[0m\n\u001b[0m",
            "\u001b[0;32m<ipython-input-61-914fb8984c7a>\u001b[0m in \u001b[0;36mcount_co\u001b[0;34m(list_coprimes)\u001b[0m\n\u001b[1;32m     13\u001b[0m \u001b[0;32mdef\u001b[0m \u001b[0mcount_co\u001b[0m\u001b[0;34m(\u001b[0m\u001b[0mlist_coprimes\u001b[0m\u001b[0;34m)\u001b[0m\u001b[0;34m:\u001b[0m\u001b[0;34m\u001b[0m\u001b[0;34m\u001b[0m\u001b[0m\n\u001b[1;32m     14\u001b[0m       \u001b[0;32mfor\u001b[0m \u001b[0mi\u001b[0m \u001b[0;32min\u001b[0m \u001b[0mrange\u001b[0m \u001b[0;34m(\u001b[0m\u001b[0;36m2\u001b[0m\u001b[0;34m,\u001b[0m \u001b[0mlist_coprimes\u001b[0m\u001b[0;34m)\u001b[0m\u001b[0;34m:\u001b[0m\u001b[0;34m\u001b[0m\u001b[0;34m\u001b[0m\u001b[0m\n\u001b[0;32m---> 15\u001b[0;31m         \u001b[0mcount\u001b[0m\u001b[0;34m=\u001b[0m\u001b[0mcount\u001b[0m\u001b[0;34m+\u001b[0m\u001b[0;36m1\u001b[0m\u001b[0;34m\u001b[0m\u001b[0;34m\u001b[0m\u001b[0m\n\u001b[0m\u001b[1;32m     16\u001b[0m         \u001b[0mprint\u001b[0m\u001b[0;34m(\u001b[0m\u001b[0mcount\u001b[0m\u001b[0;34m)\u001b[0m\u001b[0;34m\u001b[0m\u001b[0;34m\u001b[0m\u001b[0m\n\u001b[1;32m     17\u001b[0m \u001b[0;34m\u001b[0m\u001b[0m\n",
            "\u001b[0;31mUnboundLocalError\u001b[0m: local variable 'count' referenced before assignment"
          ]
        }
      ]
    },
    {
      "cell_type": "markdown",
      "metadata": {
        "id": "xAUKdFelA5th"
      },
      "source": [
        "##7"
      ]
    },
    {
      "cell_type": "code",
      "metadata": {
        "colab": {
          "base_uri": "https://localhost:8080/"
        },
        "id": "3nnwMTfz6mKZ",
        "outputId": "c5f1dad1-515a-4a92-c2c8-700f82e682e3"
      },
      "source": [
        "def isTwinPrime(x):\n",
        "  if(isPrime(x) and isPrime(x+2)):\n",
        "    return True\n",
        "  return False\n",
        "\n",
        "def listTwinPrimes(x, y):\n",
        "  for i in range (x,y+1):\n",
        "    if(isTwinPrime(i)):\n",
        "      print(i, \" \", i+2)\n",
        "      i+=2\n",
        "listTwinPrimes(2,10)"
      ],
      "execution_count": null,
      "outputs": [
        {
          "output_type": "stream",
          "name": "stdout",
          "text": [
            "3   5\n",
            "5   7\n",
            "7   9\n",
            "9   11\n"
          ]
        }
      ]
    },
    {
      "cell_type": "markdown",
      "metadata": {
        "id": "0GXwy695A8TS"
      },
      "source": [
        "##8"
      ]
    },
    {
      "cell_type": "code",
      "metadata": {
        "colab": {
          "base_uri": "https://localhost:8080/"
        },
        "id": "vqQ0Bct38m4Q",
        "outputId": "e53d142e-ca81-4377-db34-53165c5880ea"
      },
      "source": [
        "import random as r \n",
        "\n",
        "def rps():\n",
        "  rock_count=0\n",
        "  paper_count=0\n",
        "  scissors_count=0\n",
        "\n",
        "  for i in range(10000):\n",
        "    num1=r.randint(1,3)\n",
        "    num2=r.randint(1,3)\n",
        "\n",
        "    if(num1==num2):\n",
        "      continue\n",
        "    elif(num1==1 and num2==2):\n",
        "      paper_count+=1\n",
        "    elif(num1==1 and num2==3):\n",
        "      rock_count+=1\n",
        "    elif(num1==2 and num2==3):\n",
        "      scissors_count+=1\n",
        "\n",
        "  print(\"rock\", rock_count/10000)\n",
        "  print(\"paper\", paper_count/10000)\n",
        "  print(\"scissors\", scissors_count/10000)\n",
        "\n",
        "rps()\n",
        "\n"
      ],
      "execution_count": null,
      "outputs": [
        {
          "output_type": "stream",
          "name": "stdout",
          "text": [
            "rock 0.1094\n",
            "paper 0.1127\n",
            "scissors 0.1073\n"
          ]
        }
      ]
    },
    {
      "cell_type": "markdown",
      "metadata": {
        "id": "ZpGClYqUA_pA"
      },
      "source": [
        "##9"
      ]
    }
  ]
}