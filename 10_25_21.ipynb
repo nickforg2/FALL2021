{
  "nbformat": 4,
  "nbformat_minor": 0,
  "metadata": {
    "colab": {
      "name": "10/25/21.ipynb",
      "provenance": [],
      "authorship_tag": "ABX9TyOTZ88LbR1vlf5SjKWSTfW2",
      "include_colab_link": true
    },
    "kernelspec": {
      "name": "python3",
      "display_name": "Python 3"
    },
    "language_info": {
      "name": "python"
    }
  },
  "cells": [
    {
      "cell_type": "markdown",
      "metadata": {
        "id": "view-in-github",
        "colab_type": "text"
      },
      "source": [
        "<a href=\"https://colab.research.google.com/github/nickforg2/FALL2021/blob/main/10_25_21.ipynb\" target=\"_parent\"><img src=\"https://colab.research.google.com/assets/colab-badge.svg\" alt=\"Open In Colab\"/></a>"
      ]
    },
    {
      "cell_type": "markdown",
      "metadata": {
        "id": "Bny9j5bfumHL"
      },
      "source": [
        "Create functions to do the following: max, min, average, standard deviation, and geometric average. "
      ]
    },
    {
      "cell_type": "code",
      "metadata": {
        "id": "Dyih9LmhuQNf",
        "colab": {
          "base_uri": "https://localhost:8080/"
        },
        "outputId": "182aa972-5654-46e6-e4f8-8a63c882f6ea"
      },
      "source": [
        "import numpy as np\n",
        "\n",
        "def Max(num1):\n",
        "  my_max= num1[0]\n",
        "  for i in num1:\n",
        "    if my_max < i:\n",
        "      my_max=i\n",
        "  return my_max\n",
        "\n",
        "  \n",
        "def Min(num1):\n",
        "  my_min= num1[0]\n",
        "  for i in num1:\n",
        "    if my_min > i:\n",
        "      my_min=i\n",
        "  return my_min\n",
        "\n",
        "def Avg(num1):\n",
        "  total=0\n",
        "  for i in num1:\n",
        "    total+=i\n",
        "  return total/len(num1)\n",
        "\n",
        "def X(vals, weight, power):\n",
        "  mid=(vals**power)*weight\n",
        "  total=0\n",
        "  for i in mid:\n",
        "    total+=i\n",
        "  return total\n",
        "\n",
        "def stdev(vals, weight):\n",
        "  x1= X(vals, weight, 1)\n",
        "  x2= X(vals, weight,2)\n",
        "  return np.sqrt(x1-x2**2)\n",
        "\n",
        "def geoAvg(nums):\n",
        "  mult=1\n",
        "  for i in nums:\n",
        "    mult*=i\n",
        "  return mult** 1/len(nums)\n",
        "\n",
        "weights = np.array([.1,.1,.1,.1,.1,.1,.1,.1,.1,.1])\n",
        "vals= np.array([1,2,3,6,9,3,5,11,10,2])\n",
        "a=[8,6,9,13,3,2]\n",
        "\n",
        "\n",
        "print(Max(a))\n",
        "print(Min(a))\n",
        "print(Avg(a))\n",
        "print(stdev(vals, weights))\n",
        "print(geoAvg(vals))\n",
        "\n"
      ],
      "execution_count": 87,
      "outputs": [
        {
          "output_type": "stream",
          "name": "stdout",
          "text": [
            "13\n",
            "2\n",
            "6.833333333333333\n",
            "nan\n",
            "106920.0\n"
          ]
        },
        {
          "output_type": "stream",
          "name": "stderr",
          "text": [
            "/usr/local/lib/python3.7/dist-packages/ipykernel_launcher.py:34: RuntimeWarning: invalid value encountered in sqrt\n"
          ]
        }
      ]
    },
    {
      "cell_type": "markdown",
      "metadata": {
        "id": "8MIJK7dq3519"
      },
      "source": [
        "Create a function that asks the user which shape they would like to analyze. It should then call other functions based on this and return the area of the shape.  The triangle function should take in the base and height, the circle function should take in the radius, and the square function should take in the side length."
      ]
    },
    {
      "cell_type": "code",
      "metadata": {
        "id": "uf3Kg5bizadA",
        "colab": {
          "base_uri": "https://localhost:8080/"
        },
        "outputId": "dcf8dd69-1ebc-4b2f-8906-bb9afa5f56f5"
      },
      "source": [
        "import numpy as np\n",
        "def shapeChoice():\n",
        "  data = int (input(\"Which shape would you like to find the area of? (TRIANGLE-1, SQUARE-2, CIRCLE-3 \"))\n",
        "  if data is 1:\n",
        "    base = float(input(\"What is the base?\"))\n",
        "    height = float(input('What is the height?'))\n",
        "    triangle(base,height)\n",
        "  elif data is 2:\n",
        "    side = float(input(\"What is the side?\"))\n",
        "    square(side)\n",
        "  elif data is 3:\n",
        "    radius = float(input(\"What is the radius?\"))\n",
        "    circle(radius)\n",
        "  else:\n",
        "    print(\"Error.. Guess your dumb\")\n",
        "\n",
        "\n",
        "def triangle(base, height):\n",
        "  print(\"The area of the triangle is: \", base*height)\n",
        "\n",
        "def circle(radius):\n",
        "  print(\"The area of the circle is: \", (radius**2)*3.14)\n",
        "\n",
        "def square(side):\n",
        "  print(\"The area of the square is: \", side*side)\n",
        "\n",
        "shapeChoice()\n",
        "\n",
        "  \n",
        "\n"
      ],
      "execution_count": null,
      "outputs": [
        {
          "output_type": "stream",
          "name": "stdout",
          "text": [
            "Which shape would you like to find the area of? (TRIANGLE-1, SQUARE-2, CIRCLE-3 4\n",
            "Error.. Guess your dumb\n"
          ]
        }
      ]
    },
    {
      "cell_type": "markdown",
      "metadata": {
        "id": "9_MFWWJ16dpX"
      },
      "source": [
        "Create a function that takes in a list and returns the list doubled. It should ask the user for option one or two. If the user chooses option one it should return the list doubled such as [1 2 3] becoming [1 2 3 1 2 3], if the user chooses option two then is should return the list such as [1 2 3] becoming [2 4 6]."
      ]
    },
    {
      "cell_type": "code",
      "metadata": {
        "colab": {
          "base_uri": "https://localhost:8080/"
        },
        "id": "fA0eQpEMd5lz",
        "outputId": "1c54586d-8a20-4eed-864f-0edc04900073"
      },
      "source": [
        "import numpy as np\n",
        "def multiples(num):\n",
        "  data = int (input(\"Do you wanna see your list twice (1) OR double your list (2) \" ))\n",
        "  if data is 1:\n",
        "    num = num*2\n",
        "  elif data is 2:\n",
        "    num=np.arry(num)\n",
        "    num=num*2\n",
        "  return num\n",
        "\n",
        "vals = [1,2,3,4,5,6]\n",
        "print(multiples(vals))\n"
      ],
      "execution_count": null,
      "outputs": [
        {
          "output_type": "stream",
          "name": "stdout",
          "text": [
            "Do you wanna see your list twice (1) OR double your list (2) 1\n",
            "[1, 2, 3, 4, 5, 6, 1, 2, 3, 4, 5, 6]\n"
          ]
        }
      ]
    },
    {
      "cell_type": "markdown",
      "metadata": {
        "id": "dSdIw14Bf56U"
      },
      "source": [
        "Create a function that takes in two lists and concatenates the numbers in those lists. For instance, if we have [1 2 3] and [7 8 9], we should return [17 28 39]"
      ]
    },
    {
      "cell_type": "code",
      "metadata": {
        "colab": {
          "base_uri": "https://localhost:8080/"
        },
        "id": "XigtlFcYf6pg",
        "outputId": "f115a073-ad47-4c73-b8a0-307f0e0f3552"
      },
      "source": [
        "def conLists(list1,list2):\n",
        "  con=[]\n",
        "  for(i,j) in zip(list1, list2):\n",
        "    con.append(int(str(i)+str(j)))\n",
        "  return con\n",
        "\n",
        "list1 = [1,2,3]\n",
        "list2 =[4,5,6]\n",
        "\n",
        "print(conLists(list1,list2))"
      ],
      "execution_count": null,
      "outputs": [
        {
          "output_type": "stream",
          "name": "stdout",
          "text": [
            "[14, 25, 36]\n"
          ]
        }
      ]
    },
    {
      "cell_type": "markdown",
      "metadata": {
        "id": "jvDMmAVyf65y"
      },
      "source": [
        "Create a function that returns a list of primes up until the number passed in. So if 100 is passed in, it should return all the primes up until 100.\n"
      ]
    },
    {
      "cell_type": "code",
      "metadata": {
        "id": "T3cTP0S9f8zV",
        "colab": {
          "base_uri": "https://localhost:8080/"
        },
        "outputId": "b82e459f-c024-4281-bc6b-11198a571a22"
      },
      "source": [
        "def isPrime(num):\n",
        "  for i in range (2,num):\n",
        "    if(num% i==0):\n",
        "      return False\n",
        "    return True\n",
        "\n",
        "def listPrimes(x, y):\n",
        "  for i in range(x,y+1):\n",
        "    if(isPrime(i)):\n",
        "      print(i, end = \" | \")\n",
        "\n",
        "listPrimes(2,100)"
      ],
      "execution_count": 44,
      "outputs": [
        {
          "output_type": "stream",
          "name": "stdout",
          "text": [
            "3 | 5 | 7 | 9 | 11 | 13 | 15 | 17 | 19 | 21 | 23 | 25 | 27 | 29 | 31 | 33 | 35 | 37 | 39 | 41 | 43 | 45 | 47 | 49 | 51 | 53 | 55 | 57 | 59 | 61 | 63 | 65 | 67 | 69 | 71 | 73 | 75 | 77 | 79 | 81 | 83 | 85 | 87 | 89 | 91 | 93 | 95 | 97 | 99 | "
          ]
        }
      ]
    },
    {
      "cell_type": "markdown",
      "metadata": {
        "id": "-qgtukP4f86-"
      },
      "source": [
        "Write a function calculation() such that it can accept two variables and calculate the multiplication and divison of it. And also it must return both results in a single return call\n"
      ]
    },
    {
      "cell_type": "code",
      "metadata": {
        "colab": {
          "base_uri": "https://localhost:8080/"
        },
        "id": "Wrc7sUeCf-eF",
        "outputId": "d3892a41-db82-4cf1-cdd5-9ae5535d8d3a"
      },
      "source": [
        "def calculation(a,b):\n",
        "  return a*b, a/b\n",
        "\n",
        "mult, div= calculation(36,6)\n",
        "print(mult, \" \", div)"
      ],
      "execution_count": null,
      "outputs": [
        {
          "output_type": "stream",
          "name": "stdout",
          "text": [
            "216   6.0\n"
          ]
        }
      ]
    },
    {
      "cell_type": "markdown",
      "metadata": {
        "id": "aj8HaBvTf-mp"
      },
      "source": [
        "If we list all the natural numbers below 10 that are multiples of 3 or 5, we get 3, 5, 6 and 9. The sum of these multiples is 23.Find the sum of all the multiples of 3 or 5 below 1000.\n"
      ]
    },
    {
      "cell_type": "code",
      "metadata": {
        "id": "4B6tnwPHgAxM",
        "colab": {
          "base_uri": "https://localhost:8080/"
        },
        "outputId": "84d079cc-9004-4f13-f036-0f41cba21460"
      },
      "source": [
        "def check(x,y):\n",
        "  result = 0\n",
        "  for i in range(x,y):\n",
        "    if (i % 3 == 0 or i % 5 == 0):\n",
        "      print (i, end = \"|\")\n",
        "      result = result + i\n",
        "  return print(\"\\n\", \"The result is: \", result)\n",
        "\n",
        "\n",
        "check(1, 1000)\n",
        "      "
      ],
      "execution_count": 78,
      "outputs": [
        {
          "output_type": "stream",
          "name": "stdout",
          "text": [
            "3|5|6|9|10|12|15|18|20|21|24|25|27|30|33|35|36|39|40|42|45|48|50|51|54|55|57|60|63|65|66|69|70|72|75|78|80|81|84|85|87|90|93|95|96|99|100|102|105|108|110|111|114|115|117|120|123|125|126|129|130|132|135|138|140|141|144|145|147|150|153|155|156|159|160|162|165|168|170|171|174|175|177|180|183|185|186|189|190|192|195|198|200|201|204|205|207|210|213|215|216|219|220|222|225|228|230|231|234|235|237|240|243|245|246|249|250|252|255|258|260|261|264|265|267|270|273|275|276|279|280|282|285|288|290|291|294|295|297|300|303|305|306|309|310|312|315|318|320|321|324|325|327|330|333|335|336|339|340|342|345|348|350|351|354|355|357|360|363|365|366|369|370|372|375|378|380|381|384|385|387|390|393|395|396|399|400|402|405|408|410|411|414|415|417|420|423|425|426|429|430|432|435|438|440|441|444|445|447|450|453|455|456|459|460|462|465|468|470|471|474|475|477|480|483|485|486|489|490|492|495|498|500|501|504|505|507|510|513|515|516|519|520|522|525|528|530|531|534|535|537|540|543|545|546|549|550|552|555|558|560|561|564|565|567|570|573|575|576|579|580|582|585|588|590|591|594|595|597|600|603|605|606|609|610|612|615|618|620|621|624|625|627|630|633|635|636|639|640|642|645|648|650|651|654|655|657|660|663|665|666|669|670|672|675|678|680|681|684|685|687|690|693|695|696|699|700|702|705|708|710|711|714|715|717|720|723|725|726|729|730|732|735|738|740|741|744|745|747|750|753|755|756|759|760|762|765|768|770|771|774|775|777|780|783|785|786|789|790|792|795|798|800|801|804|805|807|810|813|815|816|819|820|822|825|828|830|831|834|835|837|840|843|845|846|849|850|852|855|858|860|861|864|865|867|870|873|875|876|879|880|882|885|888|890|891|894|895|897|900|903|905|906|909|910|912|915|918|920|921|924|925|927|930|933|935|936|939|940|942|945|948|950|951|954|955|957|960|963|965|966|969|970|972|975|978|980|981|984|985|987|990|993|995|996|999|\n",
            " The result is:  233168\n"
          ]
        }
      ]
    },
    {
      "cell_type": "markdown",
      "metadata": {
        "id": "jN8D-wz0gA48"
      },
      "source": [
        "Find the sum of the even valued Fibonacci numbers below 500.\n"
      ]
    },
    {
      "cell_type": "code",
      "metadata": {
        "colab": {
          "base_uri": "https://localhost:8080/"
        },
        "id": "Rz_OauJCgCov",
        "outputId": "555d2ee8-036c-4e3f-ce5b-7d7044428fa0"
      },
      "source": [
        "def fib(x):\n",
        "  first = 1\n",
        "  second = 2\n",
        "  total=first+second\n",
        "  for i in range(x):\n",
        "    third=first+second\n",
        "    if(third%2 ==1):\n",
        "      total+=third\n",
        "    first=second\n",
        "    second=third\n",
        "  return total\n",
        "\n",
        "print(fib(500))"
      ],
      "execution_count": null,
      "outputs": [
        {
          "output_type": "stream",
          "name": "stdout",
          "text": [
            "1250924126051990023839361737320306498059220941124276030514827873044712440011905760348958095401744177229817\n"
          ]
        }
      ]
    },
    {
      "cell_type": "markdown",
      "metadata": {
        "id": "mw7yTIibj5mi"
      },
      "source": [
        "Find the sum of all the numbers that can be written as the sum of fifth powers of their digits.\n",
        "\n"
      ]
    },
    {
      "cell_type": "code",
      "metadata": {
        "colab": {
          "base_uri": "https://localhost:8080/"
        },
        "id": "8MgmlvW9j6YO",
        "outputId": "cd1973f9-d021-4a55-9b14-86d955c29366"
      },
      "source": [
        "def fifth():\n",
        "  for spot in range (2, 1000000):\n",
        "    digits = [int(i) for i in str(spot)]\n",
        "    total=0\n",
        "    for k in digits:\n",
        "      total += k**5\n",
        "    if total ==spot:\n",
        "      print(total)\n",
        "\n",
        "fifth()"
      ],
      "execution_count": null,
      "outputs": [
        {
          "output_type": "stream",
          "name": "stdout",
          "text": [
            "4150\n",
            "4151\n",
            "54748\n",
            "92727\n",
            "93084\n",
            "194979\n"
          ]
        }
      ]
    },
    {
      "cell_type": "code",
      "metadata": {
        "id": "YGExNuQN6g4A"
      },
      "source": [
        ""
      ],
      "execution_count": null,
      "outputs": []
    }
  ]
}