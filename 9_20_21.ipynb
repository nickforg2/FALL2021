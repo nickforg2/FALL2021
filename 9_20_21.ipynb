{
  "nbformat": 4,
  "nbformat_minor": 0,
  "metadata": {
    "colab": {
      "name": "9/20/21.ipynb",
      "provenance": [],
      "collapsed_sections": []
    },
    "kernelspec": {
      "name": "python3",
      "display_name": "Python 3"
    },
    "language_info": {
      "name": "python"
    }
  },
  "cells": [
    {
      "cell_type": "code",
      "metadata": {
        "colab": {
          "base_uri": "https://localhost:8080/"
        },
        "id": "9afvKozdXMk_",
        "outputId": "7348f8f1-59c8-4b1c-d238-6568985f393f"
      },
      "source": [
        "age= int(input(\"How old are you\\n\"))\n",
        "if age <=0 or age >=120:\n",
        "  age= int(input(\"How old are you\\n\"))\n"
      ],
      "execution_count": null,
      "outputs": [
        {
          "name": "stdout",
          "output_type": "stream",
          "text": [
            "How old are you\n",
            "12\n"
          ]
        }
      ]
    },
    {
      "cell_type": "code",
      "metadata": {
        "colab": {
          "base_uri": "https://localhost:8080/"
        },
        "id": "MGpIAWDDcxgk",
        "outputId": "dccc3f64-8474-4cdf-c278-308091f9516e"
      },
      "source": [
        "package = int(input(\"How many orders? \"))\n",
        "discount = 0\n",
        "price = 99\n",
        "if package < 10 and package >19:\n",
        "  discount =.1\n",
        "  \n",
        "  print(total)"
      ],
      "execution_count": null,
      "outputs": [
        {
          "name": "stdout",
          "output_type": "stream",
          "text": [
            "How many orders? 12\n"
          ]
        }
      ]
    },
    {
      "cell_type": "code",
      "metadata": {
        "id": "2upKwoQlXPQA",
        "colab": {
          "base_uri": "https://localhost:8080/"
        },
        "outputId": "72705166-dede-40ed-9cdc-0287c61d58f7"
      },
      "source": [
        "x = float(input(\"what grade did you geet?\"))\n",
        "if x<=60:\n",
        "  print(\"you got a D\")\n",
        "elif x < 75:\n",
        "  print('You got a C')\n",
        "elif x <85:\n",
        "  print('You got a B')\n",
        "elif x<=100:\n",
        "  print(\"You got an A\")"
      ],
      "execution_count": null,
      "outputs": [
        {
          "output_type": "stream",
          "name": "stdout",
          "text": [
            "what grade did you geet?45\n",
            "you got a D\n"
          ]
        }
      ]
    },
    {
      "cell_type": "code",
      "metadata": {
        "colab": {
          "base_uri": "https://localhost:8080/"
        },
        "id": "GRMZDmk7bSF6",
        "outputId": "05aa101e-c909-4d5d-8cd3-47e9addfff32"
      },
      "source": [
        "x = int(input(\"Please give me a number \"))\n",
        "if x<=10:\n",
        "  print(\"the number ios less than 5\")\n",
        "else:\n",
        "  print(\"It is greater than 10\")"
      ],
      "execution_count": null,
      "outputs": [
        {
          "output_type": "stream",
          "name": "stdout",
          "text": [
            "Please give me a number 5\n",
            "the number ios less than 5\n"
          ]
        }
      ]
    },
    {
      "cell_type": "markdown",
      "metadata": {
        "id": "Q59AYnwTecdM"
      },
      "source": [
        "#Software company\n",
        "##This is where the homework begins; the above code is practice from that day of class"
      ]
    },
    {
      "cell_type": "code",
      "metadata": {
        "id": "fnSzGwONeQ5E"
      },
      "source": [
        "package = int(input(\"How many orders? \"))\n",
        "discount = 0\n",
        "price = 99\n",
        "if package < 10 and package >19:\n",
        "  discount =.1\n",
        "  \n",
        "  print(total)"
      ],
      "execution_count": null,
      "outputs": []
    },
    {
      "cell_type": "code",
      "metadata": {
        "colab": {
          "base_uri": "https://localhost:8080/"
        },
        "id": "PZEfP8VefKeN",
        "outputId": "8f20057b-a3d2-4077-aa56-695aafb22fd1"
      },
      "source": [
        "package =99\n",
        "quantity = int(input(\"how many would you like to order?\\n\"))\n",
        "discount = 0\n",
        "if quantity >=10 and quantity <=19:\n",
        "  discount =.1\n",
        "elif quantity >=20 and quantity <=49:\n",
        "  discount =.2\n",
        "elif quantity >=50 and quantity <=99:\n",
        "  discount =.3\n",
        "elif quantity >=100:\n",
        "  discount =.4\n",
        "\n",
        "total_amount=package*quantity*(1-discount)\n",
        "print(f'discount is: ' , discount*100, '% ')\n",
        "print(\"The total amount is \", total_amount)\n",
        "\n"
      ],
      "execution_count": null,
      "outputs": [
        {
          "output_type": "stream",
          "name": "stdout",
          "text": [
            "how many would you like to order?\n",
            "10\n",
            "discount is:  10.0 % \n",
            "The total amount is  891.0\n"
          ]
        }
      ]
    },
    {
      "cell_type": "code",
      "metadata": {
        "colab": {
          "base_uri": "https://localhost:8080/"
        },
        "id": "w-LMayhci4hv",
        "outputId": "eed8871e-9041-4731-85ea-6471a94d7c3c"
      },
      "source": [
        "package = int(input(\"What is the weight of your packages: \"))\n",
        "shippingCharge=0\n",
        "\n",
        "if package <=2:\n",
        "  shippingCharge=1.50\n",
        "elif package >2 and package <=6:\n",
        "  shippingCharge=3.00\n",
        "elif package >6 and package <=10:\n",
        "  shippingCharge=4.00\n",
        "else:\n",
        "  shippingCharge=4.75\n",
        "\n",
        "print(\"Your shipping charges are: \", shippingCharge, \"$\")"
      ],
      "execution_count": 1,
      "outputs": [
        {
          "output_type": "stream",
          "name": "stdout",
          "text": [
            "What is the weight of your packages: 10\n",
            "Your shipping charges are:  4.0 $\n"
          ]
        }
      ]
    }
  ]
}