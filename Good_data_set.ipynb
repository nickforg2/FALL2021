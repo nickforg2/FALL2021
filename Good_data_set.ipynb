{
  "nbformat": 4,
  "nbformat_minor": 0,
  "metadata": {
    "colab": {
      "name": "Good data set.ipynb",
      "provenance": [],
      "authorship_tag": "ABX9TyO1AdNPO+H3V7qT0p1icsmP",
      "include_colab_link": true
    },
    "kernelspec": {
      "name": "python3",
      "display_name": "Python 3"
    },
    "language_info": {
      "name": "python"
    }
  },
  "cells": [
    {
      "cell_type": "markdown",
      "metadata": {
        "id": "view-in-github",
        "colab_type": "text"
      },
      "source": [
        "<a href=\"https://colab.research.google.com/github/nickforg2/FALL2021/blob/main/Good_data_set.ipynb\" target=\"_parent\"><img src=\"https://colab.research.google.com/assets/colab-badge.svg\" alt=\"Open In Colab\"/></a>"
      ]
    },
    {
      "cell_type": "code",
      "metadata": {
        "colab": {
          "base_uri": "https://localhost:8080/",
          "height": 200
        },
        "id": "m1jyW-5Kq8Kd",
        "outputId": "a8571a97-96cb-40fa-d962-f16e7a5f176d"
      },
      "source": [
        "\n",
        "import pandas as pd \n",
        "import numpy as np\n",
        "import matplotlib.pyplot as plt\n",
        "import missingno as msno\n",
        "import seaborn as sns\n",
        "\n",
        "\n",
        "df= pd.read_csv(\"https://raw.githubusercontent.com/nickforg2/FALL2021/main/Human%20Resources.csv\")\n",
        "\n",
        "\n",
        "df.head()"
      ],
      "execution_count": null,
      "outputs": [
        {
          "output_type": "execute_result",
          "data": {
            "text/html": [
              "<div>\n",
              "<style scoped>\n",
              "    .dataframe tbody tr th:only-of-type {\n",
              "        vertical-align: middle;\n",
              "    }\n",
              "\n",
              "    .dataframe tbody tr th {\n",
              "        vertical-align: top;\n",
              "    }\n",
              "\n",
              "    .dataframe thead th {\n",
              "        text-align: right;\n",
              "    }\n",
              "</style>\n",
              "<table border=\"1\" class=\"dataframe\">\n",
              "  <thead>\n",
              "    <tr style=\"text-align: right;\">\n",
              "      <th></th>\n",
              "      <th>Country</th>\n",
              "      <th>Year</th>\n",
              "      <th>Psychiatrists</th>\n",
              "      <th>Nurses</th>\n",
              "      <th>Social_workers</th>\n",
              "      <th>Psychologists</th>\n",
              "    </tr>\n",
              "  </thead>\n",
              "  <tbody>\n",
              "    <tr>\n",
              "      <th>0</th>\n",
              "      <td>Afghanistan</td>\n",
              "      <td>2016</td>\n",
              "      <td>0.231</td>\n",
              "      <td>0.098</td>\n",
              "      <td>NaN</td>\n",
              "      <td>0.296</td>\n",
              "    </tr>\n",
              "    <tr>\n",
              "      <th>1</th>\n",
              "      <td>Albania</td>\n",
              "      <td>2016</td>\n",
              "      <td>1.471</td>\n",
              "      <td>6.876</td>\n",
              "      <td>1.060</td>\n",
              "      <td>1.231</td>\n",
              "    </tr>\n",
              "    <tr>\n",
              "      <th>2</th>\n",
              "      <td>Angola</td>\n",
              "      <td>2016</td>\n",
              "      <td>0.057</td>\n",
              "      <td>0.660</td>\n",
              "      <td>0.022</td>\n",
              "      <td>0.179</td>\n",
              "    </tr>\n",
              "    <tr>\n",
              "      <th>3</th>\n",
              "      <td>Antigua and Barbuda</td>\n",
              "      <td>2016</td>\n",
              "      <td>1.001</td>\n",
              "      <td>7.005</td>\n",
              "      <td>4.003</td>\n",
              "      <td>NaN</td>\n",
              "    </tr>\n",
              "    <tr>\n",
              "      <th>4</th>\n",
              "      <td>Argentina</td>\n",
              "      <td>2016</td>\n",
              "      <td>21.705</td>\n",
              "      <td>NaN</td>\n",
              "      <td>NaN</td>\n",
              "      <td>222.572</td>\n",
              "    </tr>\n",
              "  </tbody>\n",
              "</table>\n",
              "</div>"
            ],
            "text/plain": [
              "               Country  Year  ...  Social_workers  Psychologists\n",
              "0          Afghanistan  2016  ...             NaN          0.296\n",
              "1              Albania  2016  ...           1.060          1.231\n",
              "2               Angola  2016  ...           0.022          0.179\n",
              "3  Antigua and Barbuda  2016  ...           4.003            NaN\n",
              "4            Argentina  2016  ...             NaN        222.572\n",
              "\n",
              "[5 rows x 6 columns]"
            ]
          },
          "metadata": {},
          "execution_count": 7
        }
      ]
    },
    {
      "cell_type": "markdown",
      "metadata": {
        "id": "xhVSpGSOr8tq"
      },
      "source": [
        "Here, ive got the header for the data which allows me to see that no data is null or missing. I am concerned about the NaN but i am unsure of how to edit or remove it."
      ]
    },
    {
      "cell_type": "code",
      "metadata": {
        "colab": {
          "base_uri": "https://localhost:8080/"
        },
        "id": "b3Hx6uf3sH7I",
        "outputId": "9cd2e076-2233-48e0-c66b-9dffb49600b6"
      },
      "source": [
        "df.info()"
      ],
      "execution_count": null,
      "outputs": [
        {
          "output_type": "stream",
          "name": "stdout",
          "text": [
            "<class 'pandas.core.frame.DataFrame'>\n",
            "RangeIndex: 107 entries, 0 to 106\n",
            "Data columns (total 6 columns):\n",
            " #   Column          Non-Null Count  Dtype  \n",
            "---  ------          --------------  -----  \n",
            " 0   Country         107 non-null    object \n",
            " 1   Year            107 non-null    int64  \n",
            " 2   Psychiatrists   104 non-null    float64\n",
            " 3   Nurses          91 non-null     float64\n",
            " 4   Social_workers  68 non-null     float64\n",
            " 5   Psychologists   84 non-null     float64\n",
            "dtypes: float64(4), int64(1), object(1)\n",
            "memory usage: 5.1+ KB\n"
          ]
        }
      ]
    },
    {
      "cell_type": "code",
      "metadata": {
        "colab": {
          "base_uri": "https://localhost:8080/",
          "height": 290
        },
        "id": "Z_R-tzvHsKLq",
        "outputId": "ed4d19f7-595f-4785-868b-0cf1263837ff"
      },
      "source": [
        "df.describe()"
      ],
      "execution_count": null,
      "outputs": [
        {
          "output_type": "execute_result",
          "data": {
            "text/html": [
              "<div>\n",
              "<style scoped>\n",
              "    .dataframe tbody tr th:only-of-type {\n",
              "        vertical-align: middle;\n",
              "    }\n",
              "\n",
              "    .dataframe tbody tr th {\n",
              "        vertical-align: top;\n",
              "    }\n",
              "\n",
              "    .dataframe thead th {\n",
              "        text-align: right;\n",
              "    }\n",
              "</style>\n",
              "<table border=\"1\" class=\"dataframe\">\n",
              "  <thead>\n",
              "    <tr style=\"text-align: right;\">\n",
              "      <th></th>\n",
              "      <th>Year</th>\n",
              "      <th>Psychiatrists</th>\n",
              "      <th>Nurses</th>\n",
              "      <th>Social_workers</th>\n",
              "      <th>Psychologists</th>\n",
              "    </tr>\n",
              "  </thead>\n",
              "  <tbody>\n",
              "    <tr>\n",
              "      <th>count</th>\n",
              "      <td>107.0</td>\n",
              "      <td>104.000000</td>\n",
              "      <td>91.000000</td>\n",
              "      <td>68.000000</td>\n",
              "      <td>84.000000</td>\n",
              "    </tr>\n",
              "    <tr>\n",
              "      <th>mean</th>\n",
              "      <td>2016.0</td>\n",
              "      <td>4.340519</td>\n",
              "      <td>12.122934</td>\n",
              "      <td>4.832632</td>\n",
              "      <td>10.415345</td>\n",
              "    </tr>\n",
              "    <tr>\n",
              "      <th>std</th>\n",
              "      <td>0.0</td>\n",
              "      <td>7.645392</td>\n",
              "      <td>22.869974</td>\n",
              "      <td>16.902273</td>\n",
              "      <td>31.451687</td>\n",
              "    </tr>\n",
              "    <tr>\n",
              "      <th>min</th>\n",
              "      <td>2016.0</td>\n",
              "      <td>0.007000</td>\n",
              "      <td>0.000000</td>\n",
              "      <td>0.006000</td>\n",
              "      <td>0.000000</td>\n",
              "    </tr>\n",
              "    <tr>\n",
              "      <th>25%</th>\n",
              "      <td>2016.0</td>\n",
              "      <td>0.219750</td>\n",
              "      <td>0.793500</td>\n",
              "      <td>0.066500</td>\n",
              "      <td>0.236750</td>\n",
              "    </tr>\n",
              "    <tr>\n",
              "      <th>50%</th>\n",
              "      <td>2016.0</td>\n",
              "      <td>1.231000</td>\n",
              "      <td>4.199000</td>\n",
              "      <td>0.375500</td>\n",
              "      <td>1.139000</td>\n",
              "    </tr>\n",
              "    <tr>\n",
              "      <th>75%</th>\n",
              "      <td>2016.0</td>\n",
              "      <td>4.559500</td>\n",
              "      <td>10.952500</td>\n",
              "      <td>1.351250</td>\n",
              "      <td>5.150250</td>\n",
              "    </tr>\n",
              "    <tr>\n",
              "      <th>max</th>\n",
              "      <td>2016.0</td>\n",
              "      <td>48.040000</td>\n",
              "      <td>150.251000</td>\n",
              "      <td>102.592000</td>\n",
              "      <td>222.572000</td>\n",
              "    </tr>\n",
              "  </tbody>\n",
              "</table>\n",
              "</div>"
            ],
            "text/plain": [
              "         Year  Psychiatrists      Nurses  Social_workers  Psychologists\n",
              "count   107.0     104.000000   91.000000       68.000000      84.000000\n",
              "mean   2016.0       4.340519   12.122934        4.832632      10.415345\n",
              "std       0.0       7.645392   22.869974       16.902273      31.451687\n",
              "min    2016.0       0.007000    0.000000        0.006000       0.000000\n",
              "25%    2016.0       0.219750    0.793500        0.066500       0.236750\n",
              "50%    2016.0       1.231000    4.199000        0.375500       1.139000\n",
              "75%    2016.0       4.559500   10.952500        1.351250       5.150250\n",
              "max    2016.0      48.040000  150.251000      102.592000     222.572000"
            ]
          },
          "metadata": {},
          "execution_count": 9
        }
      ]
    },
    {
      "cell_type": "markdown",
      "metadata": {
        "id": "ICKxJEpHuJOa"
      },
      "source": [
        "Here are the stats for the info im analyzing"
      ]
    },
    {
      "cell_type": "code",
      "metadata": {
        "colab": {
          "base_uri": "https://localhost:8080/"
        },
        "id": "taVPU3hpsL7d",
        "outputId": "268736c4-fc39-4e1d-bd10-4f591a101934"
      },
      "source": [
        "df.isnull().sum"
      ],
      "execution_count": null,
      "outputs": [
        {
          "output_type": "execute_result",
          "data": {
            "text/plain": [
              "<bound method DataFrame.sum of      Country   Year  Psychiatrists  Nurses  Social_workers  Psychologists\n",
              "0      False  False          False   False            True          False\n",
              "1      False  False          False   False           False          False\n",
              "2      False  False          False   False           False          False\n",
              "3      False  False          False   False           False           True\n",
              "4      False  False          False    True            True          False\n",
              "..       ...    ...            ...     ...             ...            ...\n",
              "102    False  False          False   False            True          False\n",
              "103    False  False          False   False           False          False\n",
              "104    False  False          False   False           False          False\n",
              "105    False  False          False   False           False          False\n",
              "106    False  False          False   False           False          False\n",
              "\n",
              "[107 rows x 6 columns]>"
            ]
          },
          "metadata": {},
          "execution_count": 10
        }
      ]
    },
    {
      "cell_type": "markdown",
      "metadata": {
        "id": "4lERIUqZsW5m"
      },
      "source": [
        "here i can see i have a few null values in psychiatrists, nurses, and countries."
      ]
    },
    {
      "cell_type": "code",
      "metadata": {
        "colab": {
          "base_uri": "https://localhost:8080/",
          "height": 348
        },
        "id": "jpRpwDtPszgf",
        "outputId": "6ae41f02-6a23-47e6-9f56-75ac87e820ec"
      },
      "source": [
        "sns.heatmap(df.isnull(),cbar=True,cmap='viridis')\n"
      ],
      "execution_count": null,
      "outputs": [
        {
          "output_type": "execute_result",
          "data": {
            "text/plain": [
              "<matplotlib.axes._subplots.AxesSubplot at 0x7f8d4afdfd50>"
            ]
          },
          "metadata": {},
          "execution_count": 11
        },
        {
          "output_type": "display_data",
          "data": {
            "image/png": "[encoded data removed]",
            "text/plain": [
              "<Figure size 432x288 with 2 Axes>"
            ]
          },
          "metadata": {
            "needs_background": "light"
          }
        }
      ]
    },
    {
      "cell_type": "markdown",
      "metadata": {
        "id": "v1P1f9f6s2_x"
      },
      "source": [
        "Here i can see there are more missing entries in social workers than in other fields from here i can attempt to edit or remove those fields if possible"
      ]
    },
    {
      "cell_type": "code",
      "metadata": {
        "colab": {
          "base_uri": "https://localhost:8080/",
          "height": 200
        },
        "id": "T4x5-NOHtBvW",
        "outputId": "3b7cd369-d3b3-4957-88b1-09c03c0e9982"
      },
      "source": [
        "num_col = ['Social_workers', 'Nurses', 'Psychologists']\n",
        "for col in num_col:\n",
        "    df[col]=pd.to_numeric(df[col])\n",
        "    df[col].fillna(df[col].mean(), inplace=True)\n",
        "df.head()"
      ],
      "execution_count": null,
      "outputs": [
        {
          "output_type": "execute_result",
          "data": {
            "text/html": [
              "<div>\n",
              "<style scoped>\n",
              "    .dataframe tbody tr th:only-of-type {\n",
              "        vertical-align: middle;\n",
              "    }\n",
              "\n",
              "    .dataframe tbody tr th {\n",
              "        vertical-align: top;\n",
              "    }\n",
              "\n",
              "    .dataframe thead th {\n",
              "        text-align: right;\n",
              "    }\n",
              "</style>\n",
              "<table border=\"1\" class=\"dataframe\">\n",
              "  <thead>\n",
              "    <tr style=\"text-align: right;\">\n",
              "      <th></th>\n",
              "      <th>Country</th>\n",
              "      <th>Year</th>\n",
              "      <th>Psychiatrists</th>\n",
              "      <th>Nurses</th>\n",
              "      <th>Social_workers</th>\n",
              "      <th>Psychologists</th>\n",
              "    </tr>\n",
              "  </thead>\n",
              "  <tbody>\n",
              "    <tr>\n",
              "      <th>0</th>\n",
              "      <td>Afghanistan</td>\n",
              "      <td>2016</td>\n",
              "      <td>0.231</td>\n",
              "      <td>0.098000</td>\n",
              "      <td>4.832632</td>\n",
              "      <td>0.296000</td>\n",
              "    </tr>\n",
              "    <tr>\n",
              "      <th>1</th>\n",
              "      <td>Albania</td>\n",
              "      <td>2016</td>\n",
              "      <td>1.471</td>\n",
              "      <td>6.876000</td>\n",
              "      <td>1.060000</td>\n",
              "      <td>1.231000</td>\n",
              "    </tr>\n",
              "    <tr>\n",
              "      <th>2</th>\n",
              "      <td>Angola</td>\n",
              "      <td>2016</td>\n",
              "      <td>0.057</td>\n",
              "      <td>0.660000</td>\n",
              "      <td>0.022000</td>\n",
              "      <td>0.179000</td>\n",
              "    </tr>\n",
              "    <tr>\n",
              "      <th>3</th>\n",
              "      <td>Antigua and Barbuda</td>\n",
              "      <td>2016</td>\n",
              "      <td>1.001</td>\n",
              "      <td>7.005000</td>\n",
              "      <td>4.003000</td>\n",
              "      <td>10.415345</td>\n",
              "    </tr>\n",
              "    <tr>\n",
              "      <th>4</th>\n",
              "      <td>Argentina</td>\n",
              "      <td>2016</td>\n",
              "      <td>21.705</td>\n",
              "      <td>12.122934</td>\n",
              "      <td>4.832632</td>\n",
              "      <td>222.572000</td>\n",
              "    </tr>\n",
              "  </tbody>\n",
              "</table>\n",
              "</div>"
            ],
            "text/plain": [
              "               Country  Year  ...  Social_workers  Psychologists\n",
              "0          Afghanistan  2016  ...        4.832632       0.296000\n",
              "1              Albania  2016  ...        1.060000       1.231000\n",
              "2               Angola  2016  ...        0.022000       0.179000\n",
              "3  Antigua and Barbuda  2016  ...        4.003000      10.415345\n",
              "4            Argentina  2016  ...        4.832632     222.572000\n",
              "\n",
              "[5 rows x 6 columns]"
            ]
          },
          "metadata": {},
          "execution_count": 17
        }
      ]
    },
    {
      "cell_type": "code",
      "metadata": {
        "colab": {
          "base_uri": "https://localhost:8080/",
          "height": 348
        },
        "id": "pAE0DsqvtaPM",
        "outputId": "b909fbe2-eaa1-45e3-ada0-e6c8c693fcb3"
      },
      "source": [
        "sns.heatmap(df.isnull(),cbar=True,cmap='viridis')\n"
      ],
      "execution_count": null,
      "outputs": [
        {
          "output_type": "execute_result",
          "data": {
            "text/plain": [
              "<matplotlib.axes._subplots.AxesSubplot at 0x7f8d4240cfd0>"
            ]
          },
          "metadata": {},
          "execution_count": 18
        },
        {
          "output_type": "display_data",
          "data": {
            "image/png": "[encoded data removed]",
            "text/plain": [
              "<Figure size 432x288 with 2 Axes>"
            ]
          },
          "metadata": {
            "needs_background": "light"
          }
        }
      ]
    },
    {
      "cell_type": "markdown",
      "metadata": {
        "id": "u_cIo_CmtfPY"
      },
      "source": [
        "Here you can see those missing entries are almost completely gone. Now, in comparison to my other data set, i can see how these maps are supposed to work. At first they seem very confusing but in reality are quick ways to decipher what is missing. "
      ]
    },
    {
      "cell_type": "code",
      "metadata": {
        "colab": {
          "base_uri": "https://localhost:8080/",
          "height": 622
        },
        "id": "1UB9jbp_txEX",
        "outputId": "73b0e425-2426-40e9-d7b6-9daa3e4e3bdb"
      },
      "source": [
        "plt.figure(figsize=(10,10))\n",
        "plt.scatter(x='Psychologists',y='Nurses',data=df)\n",
        "plt.xlabel('Psychologists')\n",
        "plt.ylabel('Nurses')"
      ],
      "execution_count": null,
      "outputs": [
        {
          "output_type": "execute_result",
          "data": {
            "text/plain": [
              "Text(0, 0.5, 'Nurses')"
            ]
          },
          "metadata": {},
          "execution_count": 21
        },
        {
          "output_type": "display_data",
          "data": {
            "image/png": "[encoded data removed]",
            "text/plain": [
              "<Figure size 720x720 with 1 Axes>"
            ]
          },
          "metadata": {
            "needs_background": "light"
          }
        }
      ]
    },
    {
      "cell_type": "markdown",
      "metadata": {
        "id": "rBYokZFEuCYa"
      },
      "source": [
        "Here i am showing the correalation of psychologists to nurses"
      ]
    },
    {
      "cell_type": "code",
      "metadata": {
        "colab": {
          "base_uri": "https://localhost:8080/",
          "height": 721
        },
        "id": "w8HQkiVtuQtw",
        "outputId": "07010a62-d22b-4848-ea18-78da2c5b60fe"
      },
      "source": [
        "df.hist(figsize=(15,10), bins = 20, xlabelsize=10, ylabelsize=10)"
      ],
      "execution_count": null,
      "outputs": [
        {
          "output_type": "execute_result",
          "data": {
            "text/plain": [
              "array([[<matplotlib.axes._subplots.AxesSubplot object at 0x7f8d41b74110>,\n",
              "        <matplotlib.axes._subplots.AxesSubplot object at 0x7f8d41ac6190>],\n",
              "       [<matplotlib.axes._subplots.AxesSubplot object at 0x7f8d41afa790>,\n",
              "        <matplotlib.axes._subplots.AxesSubplot object at 0x7f8d41ab2d90>],\n",
              "       [<matplotlib.axes._subplots.AxesSubplot object at 0x7f8d41a743d0>,\n",
              "        <matplotlib.axes._subplots.AxesSubplot object at 0x7f8d41a279d0>]],\n",
              "      dtype=object)"
            ]
          },
          "metadata": {},
          "execution_count": 22
        },
        {
          "output_type": "display_data",
          "data": {
            "image/png": "[encoded data removed]",
            "text/plain": [
              "<Figure size 1080x720 with 6 Axes>"
            ]
          },
          "metadata": {
            "needs_background": "light"
          }
        }
      ]
    },
    {
      "cell_type": "markdown",
      "metadata": {
        "id": "tIzHsvNTuZSt"
      },
      "source": [
        "Here are the differing graphs for the data. "
      ]
    },
    {
      "cell_type": "code",
      "metadata": {
        "colab": {
          "base_uri": "https://localhost:8080/",
          "height": 745
        },
        "id": "wiFVuJysurJH",
        "outputId": "d12ad34e-44a8-486d-9cd1-1ebaec8031b8"
      },
      "source": [
        "sns.catplot(data= df, kind ='box', height =10, aspect =1)"
      ],
      "execution_count": null,
      "outputs": [
        {
          "output_type": "execute_result",
          "data": {
            "text/plain": [
              "<seaborn.axisgrid.FacetGrid at 0x7f8d41eb8390>"
            ]
          },
          "metadata": {},
          "execution_count": 23
        },
        {
          "output_type": "display_data",
          "data": {
            "image/png": "[encoded data removed]",
            "text/plain": [
              "<Figure size 720x720 with 1 Axes>"
            ]
          },
          "metadata": {
            "needs_background": "light"
          }
        }
      ]
    },
    {
      "cell_type": "markdown",
      "metadata": {
        "id": "pBlqVqIsutxJ"
      },
      "source": [
        "Here is the catplot graph which is graphing the different categories. One thing i found interesting was the difference in the two data sets how clean data was so much more enjoyable to analyze. If you look at my bad data set in comparison to this one, ive used all the same graphs except now, you can see the legitamate point of each. I plan on using this knowledge to absolutely ace this final project being that i now know a little bit more about analyzing data."
      ]
    }
  ]
}